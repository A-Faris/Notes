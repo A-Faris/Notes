{
 "cells": [
  {
   "cell_type": "code",
   "execution_count": null,
   "metadata": {},
   "outputs": [],
   "source": [
    "from flask import Flask, redirect, url_for\n",
    "\n",
    "app = Flask(__name__)\n",
    "\n",
    "@app.route(\"/\")\n",
    "def home():\n",
    "    return \"Hello! This is the main page <h1>HELLO<h1>\"\n",
    "\n",
    "@app.route(\"/<name>\")\n",
    "def user(name):\n",
    "    return f\"Hello {name}!\"\n",
    "\n",
    "@app.route(\"/admin\")\n",
    "def admin():\n",
    "    return redirect(url_for(\"home\"))\n",
    "\n",
    "if __name__ == \"__main__\":\n",
    "    app.run()"
   ]
  },
  {
   "cell_type": "code",
   "execution_count": null,
   "metadata": {},
   "outputs": [],
   "source": [
    "from flask import Flask\n",
    "from flask import request\n",
    "from flask import render_template\n",
    "import stringComparison\n",
    "\n",
    "app = Flask(__name__)\n",
    "\n",
    "@app.route('/')\n",
    "def my_form():\n",
    "    return render_template(\"my-form.html\") # This should be the name of your HTML file\n",
    "\n",
    "@app.route('/', methods=['POST'])\n",
    "def my_form_post():\n",
    "    text1 = request.form['text1']\n",
    "    text2 = request.form['text2']\n",
    "    plagiarismPercent = stringComparison.extremelySimplePlagiarismChecker(text1,text2)\n",
    "    if plagiarismPercent > 50 :\n",
    "        return \"<h1>Plagiarism Detected !</h1>\"\n",
    "    else :\n",
    "        return \"<h1>No Plagiarism Detected !</h1>\"\n",
    "\n",
    "if __name__ == '__main__':\n",
    "    app.run()"
   ]
  }
 ],
 "metadata": {
  "kernelspec": {
   "display_name": "Python 3.10.6 64-bit",
   "language": "python",
   "name": "python3"
  },
  "language_info": {
   "codemirror_mode": {
    "name": "ipython",
    "version": 3
   },
   "file_extension": ".py",
   "mimetype": "text/x-python",
   "name": "python",
   "nbconvert_exporter": "python",
   "pygments_lexer": "ipython3",
   "version": "3.10.6"
  },
  "orig_nbformat": 4,
  "vscode": {
   "interpreter": {
    "hash": "afb734500600fd355917ca529030176ea0ca205570884b88f2f6f7d791fd3fbe"
   }
  }
 },
 "nbformat": 4,
 "nbformat_minor": 2
}
