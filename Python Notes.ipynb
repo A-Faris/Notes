{
 "cells": [
  {
   "cell_type": "code",
   "execution_count": 1,
   "metadata": {},
   "outputs": [
    {
     "name": "stdout",
     "output_type": "stream",
     "text": [
      "2\n",
      "Tiny\n"
     ]
    }
   ],
   "source": [
    "from typing import Type\n",
    "\n",
    "x = 1\n",
    "x = x + 1\n",
    "print(x)\n",
    "\n",
    "if x > 10:\n",
    "    print(\"x bigger than 10\")\n",
    "elif x > 2:\n",
    "    print(\"x is bigger than 2\")\n",
    "else:\n",
    "    print(\"Tiny\")"
   ]
  },
  {
   "cell_type": "code",
   "execution_count": 2,
   "metadata": {},
   "outputs": [
    {
     "name": "stdout",
     "output_type": "stream",
     "text": [
      "<class 'str'>\n",
      "<class 'float'>\n",
      "<class 'int'>\n",
      "<class 'bool'>\n",
      "<class 'list'>\n"
     ]
    }
   ],
   "source": [
    "print(type(\"abc\"))              #<class 'str'>\n",
    "print(type(2.2))                #<class 'float'>\n",
    "print(type(2))                  #<class 'int'>\n",
    "print(type(True))               #<class 'bool'>\n",
    "print(type([\"a\", \"b\", \"c\"]))    #<class 'list'>"
   ]
  },
  {
   "cell_type": "code",
   "execution_count": 3,
   "metadata": {},
   "outputs": [
    {
     "name": "stdout",
     "output_type": "stream",
     "text": [
      "Not a number\n"
     ]
    }
   ],
   "source": [
    "try:\n",
    "    num = float(input(\"Enter a number: \"))\n",
    "    print(num, \" is a number\")\n",
    "except:\n",
    "    print(\"Not a number\")"
   ]
  },
  {
   "cell_type": "code",
   "execution_count": 4,
   "metadata": {},
   "outputs": [
    {
     "name": "stdout",
     "output_type": "stream",
     "text": [
      "Hello World\n"
     ]
    }
   ],
   "source": [
    "def Hi():\n",
    "    return \"Hello World\"\n",
    "\n",
    "print(Hi())"
   ]
  },
  {
   "cell_type": "code",
   "execution_count": 5,
   "metadata": {},
   "outputs": [],
   "source": [
    "while True:\n",
    "    line = input(\"Write: \")\n",
    "    if line == \"#\":\n",
    "        continue\n",
    "    if line == \"\":\n",
    "        break\n",
    "    print(line)"
   ]
  },
  {
   "cell_type": "code",
   "execution_count": 6,
   "metadata": {},
   "outputs": [
    {
     "name": "stdout",
     "output_type": "stream",
     "text": [
      "10\n"
     ]
    }
   ],
   "source": [
    "max = 0\n",
    "for i in [1, 5, 4, 10, 7]:\n",
    "    if i > max:\n",
    "        max = i\n",
    "print(max)"
   ]
  },
  {
   "cell_type": "code",
   "execution_count": 7,
   "metadata": {},
   "outputs": [
    {
     "name": "stdout",
     "output_type": "stream",
     "text": [
      "  32 \n",
      "\n",
      "  3801 \n",
      "\n",
      "  45 \n",
      "\n",
      "  123 \n",
      "\n"
     ]
    }
   ],
   "source": [
    "a = [\"32 + 698\", \"3801 - 2\", \"45 + 43\", \"123 + 49\"]\n",
    "\n",
    "for i in a:\n",
    "    print(\" \",i.split()[0],\"\\n\")"
   ]
  },
  {
   "cell_type": "code",
   "execution_count": 8,
   "metadata": {},
   "outputs": [
    {
     "name": "stdout",
     "output_type": "stream",
     "text": [
      "b\n",
      "6\n",
      "b\n",
      "a\n",
      "n\n",
      "a\n",
      "n\n",
      "a\n"
     ]
    }
   ],
   "source": [
    "fruit = \"banana\"\n",
    "print(fruit[0])\n",
    "print(len(fruit))\n",
    "for i in fruit:\n",
    "    print(i)"
   ]
  },
  {
   "cell_type": "code",
   "execution_count": 9,
   "metadata": {},
   "outputs": [
    {
     "name": "stdout",
     "output_type": "stream",
     "text": [
      "o\n",
      "monty python\n"
     ]
    }
   ],
   "source": [
    "s = \"Monty Python\"\n",
    "print(s[1:2])\n",
    "print(s[0:].lower())"
   ]
  },
  {
   "cell_type": "code",
   "execution_count": 10,
   "metadata": {},
   "outputs": [
    {
     "data": {
      "text/plain": [
       "['__add__',\n",
       " '__class__',\n",
       " '__class_getitem__',\n",
       " '__contains__',\n",
       " '__delattr__',\n",
       " '__delitem__',\n",
       " '__dir__',\n",
       " '__doc__',\n",
       " '__eq__',\n",
       " '__format__',\n",
       " '__ge__',\n",
       " '__getattribute__',\n",
       " '__getitem__',\n",
       " '__gt__',\n",
       " '__hash__',\n",
       " '__iadd__',\n",
       " '__imul__',\n",
       " '__init__',\n",
       " '__init_subclass__',\n",
       " '__iter__',\n",
       " '__le__',\n",
       " '__len__',\n",
       " '__lt__',\n",
       " '__mul__',\n",
       " '__ne__',\n",
       " '__new__',\n",
       " '__reduce__',\n",
       " '__reduce_ex__',\n",
       " '__repr__',\n",
       " '__reversed__',\n",
       " '__rmul__',\n",
       " '__setattr__',\n",
       " '__setitem__',\n",
       " '__sizeof__',\n",
       " '__str__',\n",
       " '__subclasshook__',\n",
       " 'append',\n",
       " 'clear',\n",
       " 'copy',\n",
       " 'count',\n",
       " 'extend',\n",
       " 'index',\n",
       " 'insert',\n",
       " 'pop',\n",
       " 'remove',\n",
       " 'reverse',\n",
       " 'sort']"
      ]
     },
     "execution_count": 10,
     "metadata": {},
     "output_type": "execute_result"
    }
   ],
   "source": [
    "dir(\"abc\")\n",
    "dir(2.2)\n",
    "dir(2)\n",
    "dir(True)\n",
    "dir([\"a\", \"b\", \"c\"])"
   ]
  },
  {
   "cell_type": "code",
   "execution_count": 11,
   "metadata": {},
   "outputs": [
    {
     "name": "stdout",
     "output_type": "stream",
     "text": [
      "Hello\n",
      "World\n"
     ]
    }
   ],
   "source": [
    "print(\"Hello\\nWorld\")"
   ]
  },
  {
   "cell_type": "code",
   "execution_count": 1,
   "metadata": {},
   "outputs": [
    {
     "name": "stdout",
     "output_type": "stream",
     "text": [
      "Could not open file\n"
     ]
    }
   ],
   "source": [
    "try:\n",
    "    file = open(\"python.py\")\n",
    "    count = 0\n",
    "    for line in file:\n",
    "        count = count + 1\n",
    "    print(\"Line Count:\", count)\n",
    "    print(\"Character Count:\", len(file.read()))\n",
    "except:\n",
    "    print(\"Could not open file\")\n",
    "    quit()"
   ]
  },
  {
   "cell_type": "code",
   "execution_count": 1,
   "metadata": {},
   "outputs": [
    {
     "name": "stdout",
     "output_type": "stream",
     "text": [
      "Happy New Year: Faris\n",
      "Happy New Year: Bob\n",
      "Happy New Year: Bill\n",
      "range(0, 3)\n",
      "Happy New Year: Faris\n",
      "Happy New Year: Bob\n",
      "Happy New Year: Bill\n"
     ]
    }
   ],
   "source": [
    "friends = [\"Faris\", \"Bob\", \"Bill\"]\n",
    "\n",
    "for friend in friends:\n",
    "    print(\"Happy New Year:\", friend)\n",
    "\n",
    "print(range(len(friends)))\n",
    "\n",
    "for i in range(len(friends)):\n",
    "    friend = friends[i]\n",
    "    print(\"Happy New Year:\", friend)"
   ]
  },
  {
   "cell_type": "code",
   "execution_count": 2,
   "metadata": {},
   "outputs": [
    {
     "name": "stdout",
     "output_type": "stream",
     "text": [
      "[1, 2, 3, 4, 5, 6]\n",
      "[1, 2]\n"
     ]
    }
   ],
   "source": [
    "a = [1, 2, 3]\n",
    "b = [4, 5, 6]\n",
    "c = a + b\n",
    "print(c)\n",
    "print(a[:2])"
   ]
  },
  {
   "cell_type": "code",
   "execution_count": 3,
   "metadata": {},
   "outputs": [
    {
     "name": "stdout",
     "output_type": "stream",
     "text": [
      "[10, 45, 78, 25]\n",
      "Average: 39.5\n"
     ]
    }
   ],
   "source": [
    "L = [10, 45, 78]\n",
    "L.append(25)\n",
    "print(L)\n",
    "average = sum(L)/len(L)\n",
    "print(\"Average:\", average)"
   ]
  },
  {
   "cell_type": "code",
   "execution_count": 4,
   "metadata": {},
   "outputs": [
    {
     "name": "stdout",
     "output_type": "stream",
     "text": [
      "['With', 'three', 'words']\n",
      "3\n",
      "With\n"
     ]
    }
   ],
   "source": [
    "abc = \"With three words\"\n",
    "print(abc.split())\n",
    "print(len(abc.split()))\n",
    "print(abc.split()[0])"
   ]
  },
  {
   "cell_type": "code",
   "execution_count": 5,
   "metadata": {},
   "outputs": [
    {
     "name": "stdout",
     "output_type": "stream",
     "text": [
      "hi\n"
     ]
    }
   ],
   "source": [
    "print(\"hi\")"
   ]
  },
  {
   "cell_type": "code",
   "execution_count": 6,
   "metadata": {},
   "outputs": [
    {
     "name": "stdout",
     "output_type": "stream",
     "text": [
      "['aaaa', 'bb', 'ccc', 'd']\n",
      "['d', 'bb', 'ccc', 'aaaa']\n"
     ]
    }
   ],
   "source": [
    "A = ['ccc', 'aaaa', 'd', 'bb']\n",
    "print(sorted(A))\n",
    "print(sorted(A, key=len))"
   ]
  },
  {
   "cell_type": "code",
   "execution_count": 7,
   "metadata": {},
   "outputs": [
    {
     "name": "stdout",
     "output_type": "stream",
     "text": [
      "Could not open file\n"
     ]
    }
   ],
   "source": [
    "try:\n",
    "    file = open(\"test.txt\")\n",
    "    print(file.read().split()[0])\n",
    "except:\n",
    "    print('Could not open file')"
   ]
  },
  {
   "cell_type": "code",
   "execution_count": 8,
   "metadata": {},
   "outputs": [
    {
     "name": "stdout",
     "output_type": "stream",
     "text": [
      "HTTP/1.1 200 OK\n",
      "Date: Tue, 07 Jun 2022 13:00:39 GMT\n",
      "Server: Apache/2.4.18 (Ubuntu)\n",
      "Last-Modified: Sat, 13 May 2017 11:22:22 GMT\n",
      "ETag: \"a7-54f6609245537\"\n",
      "Accept-Ranges: bytes\n",
      "Content-Length: 167\n",
      "Cache-Control: max-age=0, no-cache, no-store, must-revalidate\n",
      "Pragma: no-cache\n",
      "Expires: Wed, 11 Jan 1984 05:00:00 GMT\n",
      "Connection: close\n",
      "Content-Type: text/plain\n",
      "\n",
      "But soft what light through yonder window breaks\n",
      "It is the east and Juliet is the sun\n",
      "Arise fair sun and kill the envious moon\n",
      "Who is already sick and pale with grief\n"
     ]
    }
   ],
   "source": [
    "import socket\n",
    "\n",
    "mysock = socket.socket(socket.AF_INET, socket.SOCK_STREAM)\n",
    "mysock.connect(('data.pr4e.org', 80))\n",
    "cmd = 'GET http://data.pr4e.org/romeo.txt HTTP/1.0\\r\\n\\r\\n'.encode()\n",
    "mysock.send(cmd)\n",
    "\n",
    "while True:\n",
    "    data = mysock.recv(512)\n",
    "    if len(data) < 1:\n",
    "        break\n",
    "    print(data.decode(),end='')\n",
    "mysock.close()"
   ]
  },
  {
   "cell_type": "code",
   "execution_count": 12,
   "metadata": {},
   "outputs": [
    {
     "name": "stdout",
     "output_type": "stream",
     "text": [
      "10\n"
     ]
    }
   ],
   "source": [
    "print(ord('\\n'))"
   ]
  },
  {
   "cell_type": "code",
   "execution_count": 13,
   "metadata": {},
   "outputs": [
    {
     "name": "stdout",
     "output_type": "stream",
     "text": [
      "But soft what light through yonder window breaks\n",
      "It is the east and Juliet is the sun\n",
      "Arise fair sun and kill the envious moon\n",
      "Who is already sick and pale with grief\n"
     ]
    }
   ],
   "source": [
    "import urllib.request\n",
    "fhand = urllib.request.urlopen('http://data.pr4e.org/romeo.txt')\n",
    "for line in fhand:\n",
    "    print(line.decode().strip())"
   ]
  },
  {
   "cell_type": "markdown",
   "metadata": {},
   "source": [
    "SQL\n",
    "\n",
    "Python for Everybody Database Handout\n",
    "\n",
    "https://www.py4e.com/lectures3/Pythonlearn-15-Database-Handout.txt\n",
    "\n",
    "Download and Install: http://sqlitebrowser.org/\n",
    "\n",
    "Single Table SQL\n",
    "\n",
    "CREATE TABLE \"Users\" (\"name\" TEXT, \"email\" TEXT)\n",
    "\n",
    "INSERT INTO Users (name, email) VALUES ('Chuck', 'csev@umich.edu')\n",
    "INSERT INTO Users (name, email) VALUES ('Colleen', 'cvl@umich.edu')\n",
    "INSERT INTO Users (name, email) VALUES ('Ted', 'ted@umich.edu')\n",
    "INSERT INTO Users (name, email) VALUES ('Sally', 'a1@umich.edu')\n",
    "INSERT INTO Users (name, email) VALUES ('Ted', 'ted@umich.edu')\n",
    "INSERT INTO Users (name, email) VALUES ('Kristen', 'kf@umich.edu')\n",
    "\n",
    "DELETE FROM Users WHERE email='ted@umich.edu'\n",
    "\n",
    "UPDATE Users SET name=\"Charles\" WHERE email='csev@umich.edu'\n",
    "\n",
    "SELECT * FROM Users\n",
    "\n",
    "SELECT * FROM Users WHERE email='csev@umich.edu'\n",
    "\n",
    "SELECT * FROM Users ORDER BY email\n",
    "\n",
    "SELECT * FROM Users ORDER BY name DESC\n",
    "\n",
    "Multi-Table SQL:\n",
    "\n",
    "CREATE TABLE \"Artist\" (\n",
    "    \"id\" INTEGER PRIMARY KEY AUTOINCREMENT NOT NULL UNIQUE, \n",
    "    \"name\" TEXT)\n",
    "\n",
    "CREATE TABLE \"Album\" (\n",
    "    \"id\" INTEGER PRIMARY KEY AUTOINCREMENT NOT NULL UNIQUE, \n",
    "    artist_id INTEGER,\n",
    "    \"title\" TEXT)\n",
    "\n",
    "CREATE TABLE \"Genre\" (\n",
    "    \"id\" INTEGER PRIMARY KEY AUTOINCREMENT NOT NULL UNIQUE, \n",
    "    \"name\" TEXT)\n",
    "\n",
    "CREATE TABLE \"Track\" (\n",
    "    \"id\" INTEGER PRIMARY KEY AUTOINCREMENT NOT NULL UNIQUE, \n",
    "    album_id INTEGER, genre_id INTEGER, len INTEGER, rating INTEGER, \n",
    "    \"title\" TEXT, \"count\" INTEGER)\n",
    "\n",
    "INSERT INTO Artist (name) VALUES ('Led Zepplin')\n",
    "INSERT INTO Artist (name) VALUES ('AC/DC')\n",
    "\n",
    "INSERT INTO Genre (name) VALUES ('Rock') ;\n",
    "INSERT INTO Genre (name) VALUES ('Metal');\n",
    "\n",
    "INSERT INTO Album (title, artist_id) VALUES ('Who Made Who', 2);\n",
    "INSERT INTO Album (title, artist_id) VALUES ('IV', 1);\n",
    "\n",
    "INSERT INTO Track (title, rating, len, count, album_id, genre_id) \n",
    "    VALUES ('Black Dog', 5, 297, 0, 2, 1) ;\n",
    "INSERT INTO Track (title, rating, len, count, album_id, genre_id) \n",
    "    VALUES ('Stairway', 5, 482, 0, 2, 1) ;\n",
    "INSERT INTO Track (title, rating, len, count, album_id, genre_id) \n",
    "    VALUES ('About to Rock', 5, 313, 0, 1, 2) ;\n",
    "INSERT INTO Track (title, rating, len, count, album_id, genre_id) \n",
    "    VALUES ('Who Made Who', 5, 207, 0, 1, 2) ;\n",
    "\n",
    "SELECT Album.title, Artist.name FROM Album JOIN Artist \n",
    "    ON Album.artist_id = Artist.id\n",
    "\n",
    "SELECT Album.title, Album.artist_id, Artist.id, Artist.name \n",
    "    FROM Album JOIN Artist ON Album.artist_id = Artist.id\n",
    "\n",
    "SELECT Track.title, Track.genre_id, Genre.id, Genre.name \n",
    "    FROM Track JOIN Genre   \n",
    "\n",
    "SELECT Track.title, Genre.name FROM Track JOIN Genre \n",
    "    ON Track.genre_id = Genre.id\n",
    "\n",
    "SELECT Track.title, Artist.name, Album.title, Genre.name \n",
    "FROM Track JOIN Genre JOIN Album JOIN Artist \n",
    "    ON Track.genre_id = Genre.id AND Track.album_id = Album.id \n",
    "    AND Album.artist_id = Artist.id\n",
    " \n",
    "\n",
    "Many-Many Relationship\n",
    "\n",
    "CREATE TABLE User (\n",
    "    id     INTEGER NOT NULL PRIMARY KEY AUTOINCREMENT UNIQUE,\n",
    "    name   TEXT UNIQUE,\n",
    "    email  TEXT\n",
    ") ;\n",
    "\n",
    "CREATE TABLE Course (\n",
    "    id     INTEGER NOT NULL PRIMARY KEY AUTOINCREMENT UNIQUE,\n",
    "    title  TEXT UNIQUE\n",
    ") ;\n",
    "\n",
    "CREATE TABLE Member (\n",
    "    user_id     INTEGER,\n",
    "    course_id   INTEGER,\n",
    "\trole        INTEGER,\n",
    "    PRIMARY KEY (user_id, course_id)\n",
    ") ;\n",
    "\n",
    "INSERT INTO User (name, email) VALUES ('Jane', 'jane@tsugi.org');\n",
    "INSERT INTO User (name, email) VALUES ('Ed', 'ed@tsugi.org');\n",
    "INSERT INTO User (name, email) VALUES ('Sue', 'sue@tsugi.org');\n",
    "\n",
    "INSERT INTO Course (title) VALUES ('Python');\n",
    "INSERT INTO Course (title) VALUES ('SQL');\n",
    "INSERT INTO Course (title) VALUES ('PHP');\n",
    "\n",
    "INSERT INTO Member (user_id, course_id, role) VALUES (1, 1, 1);\n",
    "INSERT INTO Member (user_id, course_id, role) VALUES (2, 1, 0);\n",
    "INSERT INTO Member (user_id, course_id, role) VALUES (3, 1, 0);\n",
    "\n",
    "INSERT INTO Member (user_id, course_id, role) VALUES (1, 2, 0);\n",
    "INSERT INTO Member (user_id, course_id, role) VALUES (2, 2, 1);\n",
    "\n",
    "INSERT INTO Member (user_id, course_id, role) VALUES (2, 3, 1);\n",
    "INSERT INTO Member (user_id, course_id, role) VALUES (3, 3, 0);\n",
    "\n",
    "SELECT User.name, Member.role, Course.title\n",
    "  FROM User JOIN Member JOIN Course\n",
    "  ON Member.user_id = User.id AND Member.course_id = Course.id\n",
    "  ORDER BY Course.title, Member.role DESC, User.name \n",
    "\n"
   ]
  }
 ],
 "metadata": {
  "interpreter": {
   "hash": "f1255793069e5d988e2d53150fad8987b7b0be88154fc93b28637a447625b590"
  },
  "kernelspec": {
   "display_name": "Python 3.10.4 64-bit",
   "language": "python",
   "name": "python3"
  },
  "language_info": {
   "codemirror_mode": {
    "name": "ipython",
    "version": 3
   },
   "file_extension": ".py",
   "mimetype": "text/x-python",
   "name": "python",
   "nbconvert_exporter": "python",
   "pygments_lexer": "ipython3",
   "version": "3.10.4"
  },
  "orig_nbformat": 4
 },
 "nbformat": 4,
 "nbformat_minor": 2
}
